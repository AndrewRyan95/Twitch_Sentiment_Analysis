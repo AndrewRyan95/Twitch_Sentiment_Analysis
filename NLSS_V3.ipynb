{
 "cells": [
  {
   "cell_type": "code",
   "execution_count": 1,
   "metadata": {
    "collapsed": true
   },
   "outputs": [],
   "source": [
    "# Every returned Out[] is displayed, not just the last one. \n",
    "from IPython.core.interactiveshell import InteractiveShell\n",
    "InteractiveShell.ast_node_interactivity = \"all\""
   ]
  },
  {
   "cell_type": "code",
   "execution_count": null,
   "metadata": {
    "collapsed": true
   },
   "outputs": [],
   "source": [
    "import nltk\n",
    "import pandas as pd\n",
    "import numpy as np"
   ]
  },
  {
   "cell_type": "markdown",
   "metadata": {},
   "source": [
    "This is the comment dataframe. It holds two years worth of comments from NLSS episodes. "
   ]
  },
  {
   "cell_type": "code",
   "execution_count": null,
   "metadata": {
    "collapsed": true
   },
   "outputs": [],
   "source": [
    "comment_df = pd.read_pickle('Pipeline/full_df.pkl')\n",
    "\n",
    "comment_df['Tokens'] = comment_df['Comment'].apply(nltk.word_tokenize)\n",
    "\n",
    "comment_df.head() \n",
    "comment_df.tail()\n",
    "print(len(comment_df), 'comments')"
   ]
  },
  {
   "cell_type": "code",
   "execution_count": null,
   "metadata": {
    "collapsed": true
   },
   "outputs": [],
   "source": [
    "video_df = pd.read_pickle('Pipeline/combined.pkl')\n",
    "video_df.head()\n",
    "video_df.tail()\n",
    "print(len(video_df), 'videos')"
   ]
  },
  {
   "cell_type": "markdown",
   "metadata": {},
   "source": [
    "The comments that I currently have available don't go as far back as my video stats do. Lets trim it to fit."
   ]
  },
  {
   "cell_type": "code",
   "execution_count": null,
   "metadata": {
    "collapsed": true
   },
   "outputs": [],
   "source": [
    "video_df.loc[video_df['Date'] == 'February 29, 2016']"
   ]
  },
  {
   "cell_type": "code",
   "execution_count": null,
   "metadata": {
    "collapsed": true
   },
   "outputs": [],
   "source": [
    "temp_vid = video_df.loc[0:138]\n",
    "temp_vid.head()\n",
    "temp_vid.tail()"
   ]
  },
  {
   "cell_type": "markdown",
   "metadata": {},
   "source": [
    "We need a consistent format for the dates in these two data frames. The two forms currently in use are\n",
    "- Month DD, YYYY\n",
    "- YYYY-MM-DD\n",
    "\n",
    "I find the first one more readable, so let's convert the dates."
   ]
  },
  {
   "cell_type": "code",
   "execution_count": null,
   "metadata": {
    "collapsed": true
   },
   "outputs": [],
   "source": [
    "months = {'01':'January', '02':'February', '03':'March', '04':'April', '05':'May', '06':'June', '07':'July', '08':'August', '09':'September', '10':'October', '11':'November', '12':'December'}\n",
    "\n",
    "oldformat = comment_df['Date']\n",
    "formatted = []\n",
    "\n",
    "for date in oldformat:\n",
    "    #Split old format into units\n",
    "    ymd = date.split('-')\n",
    "    #Save each piece as a var\n",
    "    M = ymd[1]\n",
    "    D = ymd[2]\n",
    "    Y = ymd[0]\n",
    "    #Change month numbers to words\n",
    "    M = months.get(M)\n",
    "    \n",
    "    entry = M+' '+D+', '+Y\n",
    "    \n",
    "    formatted.append(entry)"
   ]
  },
  {
   "cell_type": "markdown",
   "metadata": {},
   "source": [
    "Seems to match up now"
   ]
  },
  {
   "cell_type": "code",
   "execution_count": null,
   "metadata": {
    "collapsed": true
   },
   "outputs": [],
   "source": [
    "formatted[0]\n",
    "formatted[-1]"
   ]
  },
  {
   "cell_type": "code",
   "execution_count": null,
   "metadata": {
    "collapsed": true
   },
   "outputs": [],
   "source": [
    "comment_df['Date'] = formatted\n",
    "comment_df.head()"
   ]
  },
  {
   "cell_type": "markdown",
   "metadata": {},
   "source": [
    "# Analysis"
   ]
  },
  {
   "cell_type": "markdown",
   "metadata": {},
   "source": [
    "Let's look at the rates of the words 'love' and 'hate' in chat."
   ]
  },
  {
   "cell_type": "code",
   "execution_count": null,
   "metadata": {
    "collapsed": true
   },
   "outputs": [],
   "source": [
    "import re"
   ]
  },
  {
   "cell_type": "code",
   "execution_count": null,
   "metadata": {
    "collapsed": true
   },
   "outputs": [],
   "source": [
    "#This format oversearches, e.g. 'whatever' contains 'hate'\n",
    "hate_words = comment_df[comment_df['Comment'].str.contains('hate')]\n",
    "love_words = comment_df[comment_df['Comment'].str.contains('love')]"
   ]
  },
  {
   "cell_type": "code",
   "execution_count": null,
   "metadata": {
    "collapsed": true
   },
   "outputs": [],
   "source": [
    "len(love_words)\n",
    "len(hate_words)"
   ]
  },
  {
   "cell_type": "code",
   "execution_count": null,
   "metadata": {
    "collapsed": true
   },
   "outputs": [],
   "source": [
    "with open('PublicData/bad_words.txt') as f:\n",
    "    bad_words = f.readlines()\n",
    "    #Remove newline char\n",
    "    bad_words = [x.strip() for x in bad_words] \n",
    "len(bad_words)"
   ]
  },
  {
   "cell_type": "markdown",
   "metadata": {},
   "source": [
    "Is profanity more likely to occur with the words 'love' or 'hate'?"
   ]
  },
  {
   "cell_type": "markdown",
   "metadata": {},
   "source": [
    "Let's look at the most active users."
   ]
  },
  {
   "cell_type": "code",
   "execution_count": null,
   "metadata": {
    "collapsed": true
   },
   "outputs": [],
   "source": [
    "comment_df['User'].value_counts()"
   ]
  },
  {
   "cell_type": "markdown",
   "metadata": {},
   "source": [
    "Some of the top commenters are moderators or tool bots. Ignoring these, what sorts of comments do they produce?"
   ]
  },
  {
   "cell_type": "code",
   "execution_count": null,
   "metadata": {
    "collapsed": true
   },
   "outputs": [],
   "source": [
    "comment_df.loc[comment_df['User']=='Dr_Roc']"
   ]
  },
  {
   "cell_type": "code",
   "execution_count": null,
   "metadata": {
    "collapsed": true
   },
   "outputs": [],
   "source": [
    "from nltk.sentiment.vader import SentimentIntensityAnalyzer\n",
    "sid = SentimentIntensityAnalyzer()"
   ]
  },
  {
   "cell_type": "code",
   "execution_count": null,
   "metadata": {
    "collapsed": true,
    "scrolled": false
   },
   "outputs": [],
   "source": [
    "for post in comment_df.loc[comment_df['User']=='Dr_Roc']['Comment']:\n",
    "    print(post)\n",
    "    sentiment = sid.polarity_scores(post)\n",
    "    for k in sorted(sentiment):\n",
    "        if sentiment[k] != 0.0:\n",
    "            print('{0}: {1}, '.format(k, sentiment[k]), end='')\n",
    "        print()"
   ]
  }
 ],
 "metadata": {
  "kernelspec": {
   "display_name": "Python 3",
   "language": "python",
   "name": "python3"
  },
  "language_info": {
   "codemirror_mode": {
    "name": "ipython",
    "version": 3
   },
   "file_extension": ".py",
   "mimetype": "text/x-python",
   "name": "python",
   "nbconvert_exporter": "python",
   "pygments_lexer": "ipython3",
   "version": "3.6.2"
  }
 },
 "nbformat": 4,
 "nbformat_minor": 2
}
